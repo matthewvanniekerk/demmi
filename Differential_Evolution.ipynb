{
 "cells": [
  {
   "cell_type": "markdown",
   "metadata": {},
   "source": [
    "## Experimental Differential Evolution Optimization of 4 Port MMI\n",
    "### Rochester Institute of Technology\n",
    "### David Starling & Matthew van Niekerk\n",
    "\n",
    "\n",
    "Reference algorithm from these sources:\n",
    "\n",
    "https://link.springer.com/article/10.1023%2FA%3A1008202821328\n",
    "\n",
    "https://en.wikipedia.org/wiki/Differential_evolution"
   ]
  },
  {
   "cell_type": "code",
   "execution_count": 1,
   "metadata": {},
   "outputs": [
    {
     "name": "stdout",
     "output_type": "stream",
     "text": [
      "RESOURCE CONNECTED\n",
      "CONNECTED TO: Agilent Technologies, N7744A, SG48101084, 1.183\n",
      "\n",
      "Connection Successful: ANDO-ELECTRIC/AQ4321D/00000000/HOST0D.02.11.00/SUB0D.02.14.00/LD0D.01.01.00\n",
      "\n",
      "Locked: 0\n",
      "\n",
      "Output: 1\n",
      "\n"
     ]
    }
   ],
   "source": [
    "%matplotlib inline\n",
    "\n",
    "import matplotlib as mpl #import of the plotting environment\n",
    "import matplotlib.pyplot as plt # import of the plotting class\n",
    "from matplotlib.gridspec import GridSpec\n",
    "\n",
    "from ipywidgets import IntSlider, interact, ToggleButtons\n",
    "\n",
    "import numpy as np # scientific number package\n",
    "from numpy import random\n",
    "\n",
    "import visa\n",
    "from KeysightN7744A_Controller import KeysightN7744A_Controller # the optical power meter\n",
    "import matplotlib.pyplot as plt # import of the plotting class\n",
    "import numpy as np\n",
    "import qontrol\n",
    "import pickle\n",
    "import threading\n",
    "import AndoAQ4321 as ando\n",
    "import time\n",
    "import os\n",
    "%matplotlib inline \n",
    "import progressbar\n",
    "\n",
    "rm = visa.ResourceManager() # set the resource manager\n",
    "# devices = rm.list_resources() # generates a list of resources available and serves as good debugging\n",
    "\n",
    "q = qontrol.QXOutput(serial_port_name = 'COM11', repsonse_timeout = 0.1) # connect to qontrol with correct COM Port.\n",
    "keysight_pm = KeysightN7744A_Controller('USB0::0x0957::0x3718::SG48101084::INSTR', verbose = False) # connect to the power meter\n",
    "ando_laser = ando.AndoAQ4321(rm,address = 'GPIB1::24::INSTR')\n",
    "\n"
   ]
  },
  {
   "cell_type": "code",
   "execution_count": 4,
   "metadata": {},
   "outputs": [],
   "source": [
    "n = 12 # number of inputs\n",
    "maxV = 12 #voltage range, positive only\n",
    "\n",
    "maxiter = 5000 #max number of iterations\n",
    "condition = 500 #how many useless iterations in a row before exiting\n",
    "\n",
    "CR = 0.1 #cross-over probability\n",
    "F = .8 #differential weight"
   ]
  },
  {
   "cell_type": "code",
   "execution_count": 11,
   "metadata": {},
   "outputs": [],
   "source": [
    "def optimize(maxiter,condition,CR,F,maxV,n):\n",
    "    keysight_pm.set_units_watts()\n",
    "    widgets = ['Differential Evolution (MAX TIME REMAINING): ', progressbar.Percentage(), progressbar.Bar(), progressbar.AdaptiveETA()]\n",
    "    bar = progressbar.ProgressBar(widgets=widgets, max_value=maxiter).start()\n",
    "    \n",
    "    #initialize values\n",
    "    x = [] #this is the test \"best\" test voltage so far\n",
    "    values = [] #this is the ongoing power measurement\n",
    "    for i in range(n):\n",
    "        x.append(np.random.uniform(0,maxV)) #just a random starting point\n",
    "    \n",
    "    y = np.zeros(n) #this is the new voltage to test\n",
    "    \n",
    "    first_val = -10*np.log10(float(keysight_pm.measure_power())/0.001)\n",
    "    values.append(first_val)\n",
    "    \n",
    "    j = 1 # counter for exit condition\n",
    "    k = 1 # counter for maximum iterations\n",
    "    while j < condition and k < maxiter: \n",
    "        \n",
    "        #these three (nx1) vectors will be used to make the test voltage y\n",
    "        A = []\n",
    "        B = [] \n",
    "        C = []\n",
    "        for m in range(n):\n",
    "            A.append(np.random.uniform(0,maxV)) #uniform random variables \n",
    "            B.append(np.random.uniform(0,maxV))\n",
    "            C.append(np.random.uniform(0,maxV))\n",
    "    \n",
    "        \n",
    "        R = np.random.randint(1,n+1) #this one of the n elements definitely changes\n",
    "        for i in range(n):\n",
    "            #Change, or don't change each element of the test voltage            \n",
    "            r = np.random.uniform(0,1)\n",
    "            if r < CR or i + 1 == R: \n",
    "                y[i] = A[i] + F*(B[i] - C[i])\n",
    "                if y[i] < 0 or y[i] > maxV: #just make sure the voltage isn't out of range\n",
    "                    y[i] = x[i] #this was my choice; I also tried setting y[i] to max or 0 but this was better\n",
    "            else:\n",
    "                y[i] = x[i] #don't change this element alone\n",
    "        \n",
    "        #Here's where you apply voltages y and measure power f(y)\n",
    "        for chan in range(0,len(y)):\n",
    "            q.v[chan] = float(y[chan])\n",
    "        time.sleep(0.5)\n",
    "        this_value = -10*np.log10(float(keysight_pm.measure_power())/0.001)\n",
    "        #Check if new voltage vector y is better than old voltage vector x\n",
    "        #replace f(y,a,w) with new power measurement, and f(x,a,w) with old best power measurement (basically values[-1])\n",
    "        q.v[:] = 0\n",
    "        #if f(y,a,w) < f(x,a,w):\n",
    "        if this_value < values[-1]:\n",
    "            x = np.array(y) \n",
    "            j = 1 #reset counter to 1\n",
    "        #elif f(y,a,w) == f(x,a,w):\n",
    "        elif this_value == values[-1]:\n",
    "            x = np.array(y) \n",
    "            j = j + 1 #increase the condition counter\n",
    "        #elif f(y,a,w) > f(x,a,w):\n",
    "        elif this_value > values[-1]:\n",
    "            this_value = values[-1]\n",
    "            j = j + 1 #increase the condition counter\n",
    "        \n",
    "        values.append(this_value)\n",
    "        \n",
    "        k = k + 1 #increase the maximum iteration counter\n",
    "        bar.update(k)\n",
    "        \n",
    "    bar.finish()\n",
    "    return x, values"
   ]
  },
  {
   "cell_type": "code",
   "execution_count": 12,
   "metadata": {},
   "outputs": [
    {
     "name": "stderr",
     "output_type": "stream",
     "text": [
      "Differential Evolution (MAX TIME REMAINING): 100%|##############|Time:  0:01:58\n",
      "Differential Evolution (MAX TIME REMAINING): 100%|##############|Time:  0:01:37\n",
      "Differential Evolution (MAX TIME REMAINING): 100%|##############|Time:  0:01:36\n",
      "Differential Evolution (MAX TIME REMAINING): 100%|##############|Time:  0:02:38\n",
      "Differential Evolution (MAX TIME REMAINING): 100%|##############|Time:  0:01:21\n",
      "Differential Evolution (MAX TIME REMAINING): 100%|##############|Time:  0:02:27\n",
      "Differential Evolution (MAX TIME REMAINING): 100%|##############|Time:  0:02:06\n",
      "Differential Evolution (MAX TIME REMAINING): 100%|##############|Time:  0:00:51\n",
      "Differential Evolution (MAX TIME REMAINING): 100%|##############|Time:  0:01:39\n",
      "Differential Evolution (MAX TIME REMAINING): 100%|##############|Time:  0:01:16\n",
      "Differential Evolution (MAX TIME REMAINING): 100%|##############|Time:  0:00:48\n",
      "Differential Evolution (MAX TIME REMAINING): 100%|##############|Time:  0:01:07\n",
      "Differential Evolution (MAX TIME REMAINING): 100%|##############|Time:  0:02:38\n",
      "Differential Evolution (MAX TIME REMAINING): 100%|##############|Time:  0:01:26\n",
      "Differential Evolution (MAX TIME REMAINING): 100%|##############|Time:  0:01:05\n",
      "Differential Evolution (MAX TIME REMAINING): 100%|##############|Time:  0:01:12\n",
      "Differential Evolution (MAX TIME REMAINING): 100%|##############|Time:  0:00:40\n",
      "Differential Evolution (MAX TIME REMAINING): 100%|##############|Time:  0:01:26\n",
      "Differential Evolution (MAX TIME REMAINING): 100%|##############|Time:  0:01:47\n",
      "Differential Evolution (MAX TIME REMAINING): 100%|##############|Time:  0:00:57\n",
      "Differential Evolution (MAX TIME REMAINING): 100%|##############|Time:  0:01:58\n",
      "Differential Evolution (MAX TIME REMAINING): 100%|##############|Time:  0:01:23\n",
      "Differential Evolution (MAX TIME REMAINING): 100%|##############|Time:  0:01:52\n",
      "Differential Evolution (MAX TIME REMAINING): 100%|##############|Time:  0:01:08\n",
      "Differential Evolution (MAX TIME REMAINING): 100%|##############|Time:  0:01:04\n",
      "Differential Evolution (MAX TIME REMAINING): 100%|##############|Time:  0:00:43\n",
      "Differential Evolution (MAX TIME REMAINING): 100%|##############|Time:  0:01:08\n",
      "Differential Evolution (MAX TIME REMAINING): 100%|##############|Time:  0:01:18\n",
      "Differential Evolution (MAX TIME REMAINING): 100%|##############|Time:  0:01:00\n",
      "Differential Evolution (MAX TIME REMAINING): 100%|##############|Time:  0:01:12\n",
      "Differential Evolution (MAX TIME REMAINING): 100%|##############|Time:  0:02:19\n",
      "Differential Evolution (MAX TIME REMAINING): 100%|##############|Time:  0:01:23\n",
      "Differential Evolution (MAX TIME REMAINING): 100%|##############|Time:  0:00:40\n",
      "Differential Evolution (MAX TIME REMAINING): 100%|##############|Time:  0:00:49\n",
      "Differential Evolution (MAX TIME REMAINING): 100%|##############|Time:  0:01:42\n",
      "Differential Evolution (MAX TIME REMAINING): 100%|##############|Time:  0:00:51\n",
      "Differential Evolution (MAX TIME REMAINING): 100%|##############|Time:  0:01:13\n",
      "Differential Evolution (MAX TIME REMAINING): 100%|##############|Time:  0:00:48\n",
      "Differential Evolution (MAX TIME REMAINING): 100%|##############|Time:  0:01:18\n",
      "Differential Evolution (MAX TIME REMAINING): 100%|##############|Time:  0:00:54\n",
      "Differential Evolution (MAX TIME REMAINING): 100%|##############|Time:  0:01:36\n",
      "Differential Evolution (MAX TIME REMAINING): 100%|##############|Time:  0:02:22\n",
      "Differential Evolution (MAX TIME REMAINING): 100%|##############|Time:  0:01:10\n",
      "Differential Evolution (MAX TIME REMAINING): 100%|##############|Time:  0:00:51\n",
      "Differential Evolution (MAX TIME REMAINING): 100%|##############|Time:  0:01:21\n",
      "Differential Evolution (MAX TIME REMAINING): 100%|##############|Time:  0:01:36\n",
      "Differential Evolution (MAX TIME REMAINING): 100%|##############|Time:  0:01:05\n",
      "Differential Evolution (MAX TIME REMAINING): 100%|##############|Time:  0:00:52\n",
      "Differential Evolution (MAX TIME REMAINING): 100%|##############|Time:  0:00:43\n"
     ]
    },
    {
     "name": "stdout",
     "output_type": "stream",
     "text": [
      "34.34334788614564: F = 1.0, CR = 0.3333333333333333\n"
     ]
    }
   ],
   "source": [
    "CRs = np.linspace(0,1,7)\n",
    "Fs = np.linspace(0,2,7)\n",
    "\n",
    "ando_laser.outputON()\n",
    "\n",
    "bestCR = 0\n",
    "bestF = 0\n",
    "bestvalue = 1e6\n",
    "for CR in CRs:\n",
    "    for F in Fs:\n",
    "        x, values = optimize(100,25,CR,F,maxV,n)\n",
    "        if values[-1] < bestvalue:\n",
    "            bestvalue = values[-1]\n",
    "            bestCR = CR\n",
    "            bestF = F\n",
    "            bestcondition = condition\n",
    "\n",
    "print(str(bestvalue) + ': F = ' + str(bestF) + ', CR = ' + str(bestCR))"
   ]
  },
  {
   "cell_type": "code",
   "execution_count": 13,
   "metadata": {},
   "outputs": [
    {
     "name": "stderr",
     "output_type": "stream",
     "text": [
      "Differential Evolution (MAX TIME REMAINING): 100%|##############|Time:  0:32:28\n"
     ]
    },
    {
     "name": "stdout",
     "output_type": "stream",
     "text": [
      "34.43622469278796 with 1218 iterations\n"
     ]
    }
   ],
   "source": [
    "x, values = optimize(maxiter,condition,bestCR,bestF,maxV,n)\n",
    "print(str(values[-1]) + ' with ' + str(len(values)) + ' iterations')"
   ]
  },
  {
   "cell_type": "code",
   "execution_count": 14,
   "metadata": {},
   "outputs": [
    {
     "data": {
      "text/plain": [
       "[<matplotlib.lines.Line2D at 0x18ea5341588>]"
      ]
     },
     "execution_count": 14,
     "metadata": {},
     "output_type": "execute_result"
    },
    {
     "data": {
      "image/png": "[encoded data removed]",
      "text/plain": [
       "<Figure size 576x360 with 1 Axes>"
      ]
     },
     "metadata": {
      "needs_background": "light"
     },
     "output_type": "display_data"
    }
   ],
   "source": [
    "fig = plt.figure(1, figsize=(8,5))\n",
    "ax = fig.add_subplot()\n",
    "ax.set_xlabel('Iteration Step', fontsize=12)\n",
    "ax.set_ylabel('Output', fontsize=12)\n",
    "\n",
    "ax.plot(values,'r')"
   ]
  },
  {
   "cell_type": "code",
   "execution_count": 15,
   "metadata": {},
   "outputs": [],
   "source": [
    "# Save the data for later inspection.\n",
    "\n",
    "def save_data(obj, filename ):\n",
    "    with open(filename +'.pkl', 'wb') as f:\n",
    "        pickle.dump(obj, f, pickle.HIGHEST_PROTOCOL)\n",
    "\n",
    "def load_data(name ):\n",
    "    with open(name +'.pkl', 'rb') as f:\n",
    "        return pickle.load(f)\n",
    "    \n",
    "config_name = 'Port1-Port3-2x6pins_'\n",
    "filename_base = os.getcwd() + '/data/' + config_name"
   ]
  },
  {
   "cell_type": "code",
   "execution_count": 16,
   "metadata": {},
   "outputs": [],
   "source": [
    "data = {}\n",
    "data['final_voltage_config'] = x\n",
    "data['value_evolution'] = values\n",
    "filename_base = os.getcwd() + '/data/' + 'differential_evolution_port1_maximize_5000'\n",
    "save_data(data,filename_base)"
   ]
  },
  {
   "cell_type": "code",
   "execution_count": 17,
   "metadata": {},
   "outputs": [],
   "source": [
    "ando_laser.outputOFF()\n",
    "q.v[:] = 0"
   ]
  }
 ],
 "metadata": {
  "kernelspec": {
   "display_name": "Python 3",
   "language": "python",
   "name": "python3"
  },
  "language_info": {
   "codemirror_mode": {
    "name": "ipython",
    "version": 3
   },
   "file_extension": ".py",
   "mimetype": "text/x-python",
   "name": "python",
   "nbconvert_exporter": "python",
   "pygments_lexer": "ipython3",
   "version": "3.7.0"
  }
 },
 "nbformat": 4,
 "nbformat_minor": 4
}